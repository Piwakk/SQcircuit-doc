{
 "cells": [
  {
   "cell_type": "code",
   "execution_count": 1,
   "id": "bce699a3",
   "metadata": {},
   "outputs": [],
   "source": [
    "import SQcircuit as sq\n",
    "import numpy as np\n",
    "import matplotlib.pyplot as plt"
   ]
  },
  {
   "cell_type": "code",
   "execution_count": 3,
   "id": "73fe65ee",
   "metadata": {},
   "outputs": [],
   "source": [
    "loop1 = sq.Loop()\n",
    "loop2 = sq.Loop()\n",
    "C = sq.Capacitor(2.5)\n",
    "CJ = sq.Capacitor(6.6)\n",
    "JJ1 = sq.Junction(5.9, loops =[loop1])\n",
    "JJ2 = sq.Junction(5.9, loops =[loop1, loop2])\n",
    "L2_1 = sq.Inductor(0.36, loops =[loop1])\n",
    "L2_2 = sq.Inductor(0.36, loops =[loop1, loop2])\n",
    "L1 = sq.Inductor(0.23, loops=[loop2])\n",
    "\n",
    "elements = {\n",
    "    (0, 1): [L2_1],\n",
    "    (0, 2): [L2_2],\n",
    "    (0, 3): [L1, C],\n",
    "    (1, 3): [JJ1, CJ],\n",
    "    (2, 3): [JJ2, CJ]\n",
    "}\n",
    "\n",
    "kite = sq.Circuit(elements)"
   ]
  },
  {
   "cell_type": "code",
   "execution_count": 4,
   "id": "36910abd",
   "metadata": {},
   "outputs": [
    {
     "data": {
      "text/latex": [
       "$\\hat{H} =~\\omega_1\\hat a^\\dagger_1\\hat a_1~+~\\omega_2\\hat a^\\dagger_2\\hat a_2~+~\\omega_3\\hat a^\\dagger_3\\hat a_3~+~E_{J_{1}}\\cos(-\\hat{\\varphi}_1+\\hat{\\varphi}_2-\\hat{\\varphi}_3-\\varphi_{\\text{ext}_{1}}-\\varphi_{\\text{ext}_{2}})~+~E_{J_{2}}\\cos(-\\hat{\\varphi}_1-\\hat{\\varphi}_2-\\hat{\\varphi}_3-\\varphi_{\\text{ext}_{2}})~$"
      ],
      "text/plain": [
       "<IPython.core.display.Latex object>"
      ]
     },
     "metadata": {},
     "output_type": "display_data"
    },
    {
     "data": {
      "text/latex": [
       "$------------------------------------------------------------$"
      ],
      "text/plain": [
       "<IPython.core.display.Latex object>"
      ]
     },
     "metadata": {},
     "output_type": "display_data"
    },
    {
     "data": {
      "text/latex": [
       "$\\text{mode}~1:~~~~~~~~~~~\\text{harmonic}~~~~~~~~~~~\\hat{\\varphi}_1~=~\\varphi_{zp_{1}}(\\hat a_1+\\hat a^\\dagger_1)~~~~~~~~~~~\\omega_1/2\\pi~=~5.96222~~~~~~~~~~~\\varphi_{zp_{1}}~=~1.05e+00$"
      ],
      "text/plain": [
       "<IPython.core.display.Latex object>"
      ]
     },
     "metadata": {},
     "output_type": "display_data"
    },
    {
     "data": {
      "text/latex": [
       "$\\text{mode}~2:~~~~~~~~~~~\\text{harmonic}~~~~~~~~~~~\\hat{\\varphi}_2~=~\\varphi_{zp_{2}}(\\hat a_2+\\hat a^\\dagger_2)~~~~~~~~~~~\\omega_2/2\\pi~=~4.3598~~~~~~~~~~~\\varphi_{zp_{2}}~=~1.74e+00$"
      ],
      "text/plain": [
       "<IPython.core.display.Latex object>"
      ]
     },
     "metadata": {},
     "output_type": "display_data"
    },
    {
     "data": {
      "text/latex": [
       "$\\text{mode}~3:~~~~~~~~~~~\\text{harmonic}~~~~~~~~~~~\\hat{\\varphi}_3~=~\\varphi_{zp_{3}}(\\hat a_3+\\hat a^\\dagger_3)~~~~~~~~~~~\\omega_3/2\\pi~=~1.56833~~~~~~~~~~~\\varphi_{zp_{3}}~=~2.05e+00$"
      ],
      "text/plain": [
       "<IPython.core.display.Latex object>"
      ]
     },
     "metadata": {},
     "output_type": "display_data"
    },
    {
     "data": {
      "text/latex": [
       "$------------------------------------------------------------$"
      ],
      "text/plain": [
       "<IPython.core.display.Latex object>"
      ]
     },
     "metadata": {},
     "output_type": "display_data"
    },
    {
     "data": {
      "text/latex": [
       "$\\text{parameters}:~~~~~~~~~~~E_{J_{1}}~=~5.9~~~~~~~~~~~E_{J_{2}}~=~5.9~~~~~~~~~~~$"
      ],
      "text/plain": [
       "<IPython.core.display.Latex object>"
      ]
     },
     "metadata": {},
     "output_type": "display_data"
    },
    {
     "data": {
      "text/latex": [
       "$\\text{loops}:~~~~~~~~~~~~~~~~~~~~\\varphi_{\\text{ext}_{1}}/2\\pi~=~0.0~~~~~~~~~~~\\varphi_{\\text{ext}_{2}}/2\\pi~=~0.0~~~~~~~~~~~$"
      ],
      "text/plain": [
       "<IPython.core.display.Latex object>"
      ]
     },
     "metadata": {},
     "output_type": "display_data"
    }
   ],
   "source": [
    "kite.description()"
   ]
  },
  {
   "cell_type": "code",
   "execution_count": 61,
   "id": "7b9508e6",
   "metadata": {},
   "outputs": [],
   "source": [
    "kite.set_trunc_nums([12,13,14])"
   ]
  },
  {
   "cell_type": "code",
   "execution_count": 62,
   "id": "46bee5fa",
   "metadata": {},
   "outputs": [
    {
     "name": "stdout",
     "output_type": "stream",
     "text": [
      "0\n",
      "1\n",
      "2\n",
      "3\n",
      "4\n",
      "5\n",
      "6\n",
      "7\n",
      "8\n",
      "9\n",
      "10\n",
      "11\n",
      "12\n",
      "13\n",
      "14\n",
      "15\n",
      "16\n",
      "17\n",
      "18\n",
      "19\n"
     ]
    }
   ],
   "source": [
    "n_eig = 3\n",
    "phi_ext = np.linspace(0, 1, 20)\n",
    "\n",
    "spec = np.zeros((n_eig, len(phi_ext)))\n",
    "\n",
    "for i, phi in enumerate(phiExt):\n",
    "    print(i)\n",
    "    loop1.set_flux(phi)\n",
    "    spec[:, i], _ = kite.diag(n_eig=n_eig)"
   ]
  },
  {
   "cell_type": "code",
   "execution_count": 23,
   "id": "4a44fa53",
   "metadata": {},
   "outputs": [
    {
     "data": {
      "image/png": "[encoded data removed]",
      "text/plain": [
       "<Figure size 432x288 with 1 Axes>"
      ]
     },
     "metadata": {
      "needs_background": "light"
     },
     "output_type": "display_data"
    }
   ],
   "source": [
    "plt.figure()\n",
    "for i in range(n_eig):\n",
    "    plt.plot(phiExt, (spec[i, :] - spec[0, :]), '*')\n",
    "\n",
    "plt.xlabel(r\"$\\Phi_{ext}/\\Phi_0$\")\n",
    "plt.ylabel(r\"($\\omega_i-\\omega_0$)GHz\")\n",
    "plt.show()"
   ]
  },
  {
   "cell_type": "code",
   "execution_count": 11,
   "id": "ce3399ea",
   "metadata": {},
   "outputs": [
    {
     "data": {
      "image/png": "[encoded data removed]",
      "text/plain": [
       "<Figure size 432x288 with 1 Axes>"
      ]
     },
     "metadata": {
      "needs_background": "light"
     },
     "output_type": "display_data"
    }
   ],
   "source": [
    "plt.figure()\n",
    "for i in range(n_eig):\n",
    "    plt.plot(phiExt, (spec[i, :] - spec[0, :]), '*')\n",
    "\n",
    "plt.xlabel(r\"$\\Phi_{ext}/\\Phi_0$\")\n",
    "plt.ylabel(r\"($\\omega_i-\\omega_0$)GHz\")\n",
    "plt.show()"
   ]
  },
  {
   "cell_type": "code",
   "execution_count": 13,
   "id": "d1a08504",
   "metadata": {},
   "outputs": [],
   "source": [
    "x = np.array([-8.31408197, -6.01507817, -5.24304622, -4.01131815, -3.77734569, -3.29908462])"
   ]
  },
  {
   "cell_type": "code",
   "execution_count": 14,
   "id": "e728c93f",
   "metadata": {},
   "outputs": [
    {
     "data": {
      "text/plain": [
       "array([0.        , 2.2990038 , 3.07103575, 4.30276382, 4.53673628,\n",
       "       5.01499735])"
      ]
     },
     "execution_count": 14,
     "metadata": {},
     "output_type": "execute_result"
    }
   ],
   "source": [
    "x - x[0]"
   ]
  },
  {
   "cell_type": "code",
   "execution_count": 15,
   "id": "5cb243f5",
   "metadata": {},
   "outputs": [],
   "source": [
    "loop1 = sq.Loop()\n",
    "loop2 = sq.Loop()\n",
    "C = sq.Capacitor(2.5)\n",
    "CJ = sq.Capacitor(6.6)\n",
    "JJ1 = sq.Junction(5.9, loops =[loop1])\n",
    "JJ2 = sq.Junction(5.9, loops =[loop1, loop2])\n",
    "L2_1 = sq.Inductor(0.36, loops =[loop1])\n",
    "L2_2 = sq.Inductor(0.36, loops =[loop1, loop2])\n",
    "L1 = sq.Inductor(0.23, loops=[loop2])\n",
    "\n",
    "elements = {\n",
    "    (0, 1): [L2_1],\n",
    "    (0, 2): [L2_2],\n",
    "    (0, 3): [L1, C],\n",
    "    (1, 3): [JJ1, CJ],\n",
    "    (2, 3): [JJ2, CJ]\n",
    "}\n",
    "\n",
    "kite = sq.Circuit(elements)"
   ]
  },
  {
   "cell_type": "code",
   "execution_count": 16,
   "id": "7493e1b7",
   "metadata": {},
   "outputs": [
    {
     "data": {
      "text/latex": [
       "$\\hat{H} =~\\omega_1\\hat a^\\dagger_1\\hat a_1~+~\\omega_2\\hat a^\\dagger_2\\hat a_2~+~\\omega_3\\hat a^\\dagger_3\\hat a_3~+~E_{J_{1}}\\cos(-\\hat{\\varphi}_1+\\hat{\\varphi}_2-\\hat{\\varphi}_3-\\varphi_{\\text{ext}_{1}}-\\varphi_{\\text{ext}_{2}})~+~E_{J_{2}}\\cos(-\\hat{\\varphi}_1-\\hat{\\varphi}_2-\\hat{\\varphi}_3-\\varphi_{\\text{ext}_{2}})~$"
      ],
      "text/plain": [
       "<IPython.core.display.Latex object>"
      ]
     },
     "metadata": {},
     "output_type": "display_data"
    },
    {
     "data": {
      "text/latex": [
       "$------------------------------------------------------------$"
      ],
      "text/plain": [
       "<IPython.core.display.Latex object>"
      ]
     },
     "metadata": {},
     "output_type": "display_data"
    },
    {
     "data": {
      "text/latex": [
       "$\\text{mode}~1:~~~~~~~~~~~\\text{harmonic}~~~~~~~~~~~\\hat{\\varphi}_1~=~\\varphi_{zp_{1}}(\\hat a_1+\\hat a^\\dagger_1)~~~~~~~~~~~\\omega_1/2\\pi~=~5.96222~~~~~~~~~~~\\varphi_{zp_{1}}~=~1.05e+00$"
      ],
      "text/plain": [
       "<IPython.core.display.Latex object>"
      ]
     },
     "metadata": {},
     "output_type": "display_data"
    },
    {
     "data": {
      "text/latex": [
       "$\\text{mode}~2:~~~~~~~~~~~\\text{harmonic}~~~~~~~~~~~\\hat{\\varphi}_2~=~\\varphi_{zp_{2}}(\\hat a_2+\\hat a^\\dagger_2)~~~~~~~~~~~\\omega_2/2\\pi~=~4.3598~~~~~~~~~~~\\varphi_{zp_{2}}~=~1.74e+00$"
      ],
      "text/plain": [
       "<IPython.core.display.Latex object>"
      ]
     },
     "metadata": {},
     "output_type": "display_data"
    },
    {
     "data": {
      "text/latex": [
       "$\\text{mode}~3:~~~~~~~~~~~\\text{harmonic}~~~~~~~~~~~\\hat{\\varphi}_3~=~\\varphi_{zp_{3}}(\\hat a_3+\\hat a^\\dagger_3)~~~~~~~~~~~\\omega_3/2\\pi~=~1.56833~~~~~~~~~~~\\varphi_{zp_{3}}~=~2.05e+00$"
      ],
      "text/plain": [
       "<IPython.core.display.Latex object>"
      ]
     },
     "metadata": {},
     "output_type": "display_data"
    },
    {
     "data": {
      "text/latex": [
       "$------------------------------------------------------------$"
      ],
      "text/plain": [
       "<IPython.core.display.Latex object>"
      ]
     },
     "metadata": {},
     "output_type": "display_data"
    },
    {
     "data": {
      "text/latex": [
       "$\\text{parameters}:~~~~~~~~~~~E_{J_{1}}~=~5.9~~~~~~~~~~~E_{J_{2}}~=~5.9~~~~~~~~~~~$"
      ],
      "text/plain": [
       "<IPython.core.display.Latex object>"
      ]
     },
     "metadata": {},
     "output_type": "display_data"
    },
    {
     "data": {
      "text/latex": [
       "$\\text{loops}:~~~~~~~~~~~~~~~~~~~~\\varphi_{\\text{ext}_{1}}/2\\pi~=~0.0~~~~~~~~~~~\\varphi_{\\text{ext}_{2}}/2\\pi~=~0.0~~~~~~~~~~~$"
      ],
      "text/plain": [
       "<IPython.core.display.Latex object>"
      ]
     },
     "metadata": {},
     "output_type": "display_data"
    }
   ],
   "source": [
    "kite.description()"
   ]
  },
  {
   "cell_type": "code",
   "execution_count": 79,
   "id": "969f0c43",
   "metadata": {},
   "outputs": [],
   "source": [
    "kite.set_trunc_nums([15,15,15])"
   ]
  },
  {
   "cell_type": "code",
   "execution_count": 88,
   "id": "cda345de",
   "metadata": {
    "scrolled": true
   },
   "outputs": [],
   "source": [
    "n_eig = 7\n",
    "phi_ext = np.linspace(-0.25, 1.25, 30)\n",
    "\n",
    "spec = np.zeros((n_eig, len(phi_ext)))\n",
    "\n",
    "for i, phi in enumerate(phi_ext):\n",
    "    print(i)\n",
    "    loop1.set_flux(0.5)\n",
    "    loop2.set_flux(0.25+phi)\n",
    "    spec[:, i], _ = kite.diag(n_eig=n_eig)"
   ]
  },
  {
   "cell_type": "code",
   "execution_count": 89,
   "id": "daaaefbc",
   "metadata": {},
   "outputs": [
    {
     "data": {
      "image/png": "[encoded data removed]",
      "text/plain": [
       "<Figure size 432x288 with 1 Axes>"
      ]
     },
     "metadata": {
      "needs_background": "light"
     },
     "output_type": "display_data"
    }
   ],
   "source": [
    "plt.figure()\n",
    "for i in range(n_eig):\n",
    "    plt.plot(phi_ext, (spec[i, :] - spec[0, :]), '.-')\n",
    "\n",
    "plt.xlabel(r\"$\\Phi_{ext}/\\Phi_0$\")\n",
    "plt.ylabel(r\"($\\omega_i-\\omega_0$)GHz\")\n",
    "plt.show()"
   ]
  },
  {
   "cell_type": "code",
   "execution_count": 86,
   "id": "c4c4494f",
   "metadata": {},
   "outputs": [],
   "source": [
    "n_eig = 7\n",
    "phi_ext = np.linspace(-0.25, 1.25, 30)\n",
    "\n",
    "spec = np.zeros((n_eig, len(phi_ext)))\n",
    "\n",
    "for i, phi in enumerate(phi_ext):\n",
    "    print(i)\n",
    "    loop1.set_flux(0)\n",
    "    loop2.set_flux(phi)\n",
    "    spec[:, i], _ = kite.diag(n_eig=n_eig)"
   ]
  },
  {
   "cell_type": "code",
   "execution_count": 85,
   "id": "c9ea8337",
   "metadata": {},
   "outputs": [
    {
     "data": {
      "image/png": "[encoded data removed]",
      "text/plain": [
       "<Figure size 432x288 with 1 Axes>"
      ]
     },
     "metadata": {
      "needs_background": "light"
     },
     "output_type": "display_data"
    }
   ],
   "source": [
    "plt.figure()\n",
    "for i in range(n_eig):\n",
    "    plt.plot(phi_ext, (spec[i, :] - spec[0, :]), '.-')\n",
    "\n",
    "plt.xlabel(r\"$\\Phi_{ext}/\\Phi_0$\")\n",
    "plt.ylabel(r\"($\\omega_i-\\omega_0$)GHz\")\n",
    "plt.show()"
   ]
  },
  {
   "cell_type": "code",
   "execution_count": null,
   "id": "1b5bae0a",
   "metadata": {},
   "outputs": [],
   "source": []
  }
 ],
 "metadata": {
  "kernelspec": {
   "display_name": "Python 3 (ipykernel)",
   "language": "python",
   "name": "python3"
  },
  "language_info": {
   "codemirror_mode": {
    "name": "ipython",
    "version": 3
   },
   "file_extension": ".py",
   "mimetype": "text/x-python",
   "name": "python",
   "nbconvert_exporter": "python",
   "pygments_lexer": "ipython3",
   "version": "3.9.7"
  }
 },
 "nbformat": 4,
 "nbformat_minor": 5
}
